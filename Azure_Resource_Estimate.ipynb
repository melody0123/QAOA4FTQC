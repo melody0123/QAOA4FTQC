{
 "cells": [
  {
   "cell_type": "code",
   "execution_count": null,
   "id": "d0db9779",
   "metadata": {},
   "outputs": [
    {
     "name": "stdout",
     "output_type": "stream",
     "text": [
      "Collecting qsharp\n",
      "  Downloading qsharp-1.15.0-cp39-abi3-manylinux_2_35_x86_64.whl.metadata (2.6 kB)\n",
      "Collecting qsharp_widgets\n",
      "  Downloading qsharp_widgets-1.15.0-py2.py3-none-any.whl.metadata (1.9 kB)\n",
      "Collecting qiskit\n",
      "  Downloading qiskit-2.0.0-cp39-abi3-manylinux_2_17_x86_64.manylinux2014_x86_64.whl.metadata (12 kB)\n",
      "Collecting anywidget (from qsharp_widgets)\n",
      "  Downloading anywidget-0.9.18-py3-none-any.whl.metadata (8.9 kB)\n",
      "Collecting rustworkx>=0.15.0 (from qiskit)\n",
      "  Downloading rustworkx-0.16.0-cp39-abi3-manylinux_2_17_x86_64.manylinux2014_x86_64.whl.metadata (10 kB)\n",
      "Requirement already satisfied: numpy<3,>=1.17 in /home/hyjing/Code/Quantum_Algorithm/.venv/lib/python3.10/site-packages (from qiskit) (1.26.4)\n",
      "Requirement already satisfied: scipy>=1.5 in /home/hyjing/Code/Quantum_Algorithm/.venv/lib/python3.10/site-packages (from qiskit) (1.15.2)\n",
      "Collecting sympy>=1.3 (from qiskit)\n",
      "  Downloading sympy-1.13.3-py3-none-any.whl.metadata (12 kB)\n",
      "Collecting dill>=0.3 (from qiskit)\n",
      "  Downloading dill-0.4.0-py3-none-any.whl.metadata (10 kB)\n",
      "Requirement already satisfied: python-dateutil>=2.8.0 in /home/hyjing/Code/Quantum_Algorithm/.venv/lib/python3.10/site-packages (from qiskit) (2.9.0.post0)\n",
      "Collecting stevedore>=3.0.0 (from qiskit)\n",
      "  Downloading stevedore-5.4.1-py3-none-any.whl.metadata (2.3 kB)\n",
      "Requirement already satisfied: typing-extensions in /home/hyjing/Code/Quantum_Algorithm/.venv/lib/python3.10/site-packages (from qiskit) (4.13.2)\n",
      "Collecting symengine<0.14,>=0.11 (from qiskit)\n",
      "  Downloading symengine-0.13.0-cp310-cp310-manylinux_2_17_x86_64.manylinux2014_x86_64.whl.metadata (1.2 kB)\n",
      "Requirement already satisfied: six>=1.5 in /home/hyjing/Code/Quantum_Algorithm/.venv/lib/python3.10/site-packages (from python-dateutil>=2.8.0->qiskit) (1.17.0)\n",
      "Collecting pbr>=2.0.0 (from stevedore>=3.0.0->qiskit)\n",
      "  Downloading pbr-6.1.1-py2.py3-none-any.whl.metadata (3.4 kB)\n",
      "Collecting mpmath<1.4,>=1.1.0 (from sympy>=1.3->qiskit)\n",
      "  Downloading mpmath-1.3.0-py3-none-any.whl.metadata (8.6 kB)\n",
      "Collecting ipywidgets>=7.6.0 (from anywidget->qsharp_widgets)\n",
      "  Downloading ipywidgets-8.1.6-py3-none-any.whl.metadata (2.4 kB)\n",
      "Collecting psygnal>=0.8.1 (from anywidget->qsharp_widgets)\n",
      "  Downloading psygnal-0.12.0-cp310-cp310-manylinux_2_17_x86_64.manylinux2014_x86_64.whl.metadata (7.7 kB)\n",
      "Requirement already satisfied: comm>=0.1.3 in /home/hyjing/Code/Quantum_Algorithm/.venv/lib/python3.10/site-packages (from ipywidgets>=7.6.0->anywidget->qsharp_widgets) (0.2.2)\n",
      "Requirement already satisfied: ipython>=6.1.0 in /home/hyjing/Code/Quantum_Algorithm/.venv/lib/python3.10/site-packages (from ipywidgets>=7.6.0->anywidget->qsharp_widgets) (8.35.0)\n",
      "Requirement already satisfied: traitlets>=4.3.1 in /home/hyjing/Code/Quantum_Algorithm/.venv/lib/python3.10/site-packages (from ipywidgets>=7.6.0->anywidget->qsharp_widgets) (5.14.3)\n",
      "Collecting widgetsnbextension~=4.0.14 (from ipywidgets>=7.6.0->anywidget->qsharp_widgets)\n",
      "  Downloading widgetsnbextension-4.0.14-py3-none-any.whl.metadata (1.6 kB)\n",
      "Collecting jupyterlab_widgets~=3.0.14 (from ipywidgets>=7.6.0->anywidget->qsharp_widgets)\n",
      "  Downloading jupyterlab_widgets-3.0.14-py3-none-any.whl.metadata (4.1 kB)\n",
      "Collecting setuptools (from pbr>=2.0.0->stevedore>=3.0.0->qiskit)\n",
      "  Downloading setuptools-79.0.1-py3-none-any.whl.metadata (6.5 kB)\n",
      "Requirement already satisfied: decorator in /home/hyjing/Code/Quantum_Algorithm/.venv/lib/python3.10/site-packages (from ipython>=6.1.0->ipywidgets>=7.6.0->anywidget->qsharp_widgets) (5.2.1)\n",
      "Requirement already satisfied: exceptiongroup in /home/hyjing/Code/Quantum_Algorithm/.venv/lib/python3.10/site-packages (from ipython>=6.1.0->ipywidgets>=7.6.0->anywidget->qsharp_widgets) (1.2.2)\n",
      "Requirement already satisfied: jedi>=0.16 in /home/hyjing/Code/Quantum_Algorithm/.venv/lib/python3.10/site-packages (from ipython>=6.1.0->ipywidgets>=7.6.0->anywidget->qsharp_widgets) (0.19.2)\n",
      "Requirement already satisfied: matplotlib-inline in /home/hyjing/Code/Quantum_Algorithm/.venv/lib/python3.10/site-packages (from ipython>=6.1.0->ipywidgets>=7.6.0->anywidget->qsharp_widgets) (0.1.7)\n",
      "Requirement already satisfied: pexpect>4.3 in /home/hyjing/Code/Quantum_Algorithm/.venv/lib/python3.10/site-packages (from ipython>=6.1.0->ipywidgets>=7.6.0->anywidget->qsharp_widgets) (4.9.0)\n",
      "Requirement already satisfied: prompt_toolkit<3.1.0,>=3.0.41 in /home/hyjing/Code/Quantum_Algorithm/.venv/lib/python3.10/site-packages (from ipython>=6.1.0->ipywidgets>=7.6.0->anywidget->qsharp_widgets) (3.0.51)\n",
      "Requirement already satisfied: pygments>=2.4.0 in /home/hyjing/Code/Quantum_Algorithm/.venv/lib/python3.10/site-packages (from ipython>=6.1.0->ipywidgets>=7.6.0->anywidget->qsharp_widgets) (2.19.1)\n",
      "Requirement already satisfied: stack_data in /home/hyjing/Code/Quantum_Algorithm/.venv/lib/python3.10/site-packages (from ipython>=6.1.0->ipywidgets>=7.6.0->anywidget->qsharp_widgets) (0.6.3)\n",
      "Requirement already satisfied: parso<0.9.0,>=0.8.4 in /home/hyjing/Code/Quantum_Algorithm/.venv/lib/python3.10/site-packages (from jedi>=0.16->ipython>=6.1.0->ipywidgets>=7.6.0->anywidget->qsharp_widgets) (0.8.4)\n",
      "Requirement already satisfied: ptyprocess>=0.5 in /home/hyjing/Code/Quantum_Algorithm/.venv/lib/python3.10/site-packages (from pexpect>4.3->ipython>=6.1.0->ipywidgets>=7.6.0->anywidget->qsharp_widgets) (0.7.0)\n",
      "Requirement already satisfied: wcwidth in /home/hyjing/Code/Quantum_Algorithm/.venv/lib/python3.10/site-packages (from prompt_toolkit<3.1.0,>=3.0.41->ipython>=6.1.0->ipywidgets>=7.6.0->anywidget->qsharp_widgets) (0.2.13)\n",
      "Requirement already satisfied: executing>=1.2.0 in /home/hyjing/Code/Quantum_Algorithm/.venv/lib/python3.10/site-packages (from stack_data->ipython>=6.1.0->ipywidgets>=7.6.0->anywidget->qsharp_widgets) (2.2.0)\n",
      "Requirement already satisfied: asttokens>=2.1.0 in /home/hyjing/Code/Quantum_Algorithm/.venv/lib/python3.10/site-packages (from stack_data->ipython>=6.1.0->ipywidgets>=7.6.0->anywidget->qsharp_widgets) (3.0.0)\n",
      "Requirement already satisfied: pure-eval in /home/hyjing/Code/Quantum_Algorithm/.venv/lib/python3.10/site-packages (from stack_data->ipython>=6.1.0->ipywidgets>=7.6.0->anywidget->qsharp_widgets) (0.2.3)\n",
      "Downloading qsharp-1.15.0-cp39-abi3-manylinux_2_35_x86_64.whl (2.7 MB)\n",
      "\u001b[2K   \u001b[90m━━━━━━━━━━━━━━━━━━━━━━━━━━━━━━━━━━━━━━━━\u001b[0m \u001b[32m2.7/2.7 MB\u001b[0m \u001b[31m14.0 MB/s\u001b[0m eta \u001b[36m0:00:00\u001b[0ma \u001b[36m0:00:01\u001b[0m\n",
      "\u001b[?25hDownloading qsharp_widgets-1.15.0-py2.py3-none-any.whl (167 kB)\n",
      "Downloading qiskit-2.0.0-cp39-abi3-manylinux_2_17_x86_64.manylinux2014_x86_64.whl (6.5 MB)\n",
      "\u001b[2K   \u001b[90m━━━━━━━━━━━━━━━━━━━━━━━━━━━━━━━━━━━━━━━━\u001b[0m \u001b[32m6.5/6.5 MB\u001b[0m \u001b[31m31.7 MB/s\u001b[0m eta \u001b[36m0:00:00\u001b[0m\n",
      "\u001b[?25hDownloading dill-0.4.0-py3-none-any.whl (119 kB)\n",
      "Downloading rustworkx-0.16.0-cp39-abi3-manylinux_2_17_x86_64.manylinux2014_x86_64.whl (2.1 MB)\n",
      "\u001b[2K   \u001b[90m━━━━━━━━━━━━━━━━━━━━━━━━━━━━━━━━━━━━━━━━\u001b[0m \u001b[32m2.1/2.1 MB\u001b[0m \u001b[31m26.1 MB/s\u001b[0m eta \u001b[36m0:00:00\u001b[0m\n",
      "\u001b[?25hDownloading stevedore-5.4.1-py3-none-any.whl (49 kB)\n",
      "Downloading symengine-0.13.0-cp310-cp310-manylinux_2_17_x86_64.manylinux2014_x86_64.whl (49.7 MB)\n",
      "\u001b[2K   \u001b[90m━━━━━━━━━━━━━━━━━━━━━━━━━━━━━━━━━━━━━━━━\u001b[0m \u001b[32m49.7/49.7 MB\u001b[0m \u001b[31m29.3 MB/s\u001b[0m eta \u001b[36m0:00:00\u001b[0m00:01\u001b[0m00:01\u001b[0m\n",
      "\u001b[?25hDownloading sympy-1.13.3-py3-none-any.whl (6.2 MB)\n",
      "\u001b[2K   \u001b[90m━━━━━━━━━━━━━━━━━━━━━━━━━━━━━━━━━━━━━━━━\u001b[0m \u001b[32m6.2/6.2 MB\u001b[0m \u001b[31m27.6 MB/s\u001b[0m eta \u001b[36m0:00:00\u001b[0ma \u001b[36m0:00:01\u001b[0m\n",
      "\u001b[?25hDownloading anywidget-0.9.18-py3-none-any.whl (220 kB)\n",
      "Downloading ipywidgets-8.1.6-py3-none-any.whl (139 kB)\n",
      "Downloading mpmath-1.3.0-py3-none-any.whl (536 kB)\n",
      "\u001b[2K   \u001b[90m━━━━━━━━━━━━━━━━━━━━━━━━━━━━━━━━━━━━━━━━\u001b[0m \u001b[32m536.2/536.2 kB\u001b[0m \u001b[31m12.8 MB/s\u001b[0m eta \u001b[36m0:00:00\u001b[0m\n",
      "\u001b[?25hDownloading pbr-6.1.1-py2.py3-none-any.whl (108 kB)\n",
      "Downloading psygnal-0.12.0-cp310-cp310-manylinux_2_17_x86_64.manylinux2014_x86_64.whl (774 kB)\n",
      "\u001b[2K   \u001b[90m━━━━━━━━━━━━━━━━━━━━━━━━━━━━━━━━━━━━━━━━\u001b[0m \u001b[32m774.9/774.9 kB\u001b[0m \u001b[31m19.2 MB/s\u001b[0m eta \u001b[36m0:00:00\u001b[0m\n",
      "\u001b[?25hDownloading jupyterlab_widgets-3.0.14-py3-none-any.whl (213 kB)\n",
      "Downloading widgetsnbextension-4.0.14-py3-none-any.whl (2.2 MB)\n",
      "\u001b[2K   \u001b[90m━━━━━━━━━━━━━━━━━━━━━━━━━━━━━━━━━━━━━━━━\u001b[0m \u001b[32m2.2/2.2 MB\u001b[0m \u001b[31m34.5 MB/s\u001b[0m eta \u001b[36m0:00:00\u001b[0m\n",
      "\u001b[?25hDownloading setuptools-79.0.1-py3-none-any.whl (1.3 MB)\n",
      "\u001b[2K   \u001b[90m━━━━━━━━━━━━━━━━━━━━━━━━━━━━━━━━━━━━━━━━\u001b[0m \u001b[32m1.3/1.3 MB\u001b[0m \u001b[31m25.7 MB/s\u001b[0m eta \u001b[36m0:00:00\u001b[0m\n",
      "\u001b[?25hInstalling collected packages: mpmath, widgetsnbextension, sympy, symengine, setuptools, rustworkx, qsharp, psygnal, jupyterlab_widgets, dill, pbr, stevedore, ipywidgets, qiskit, anywidget, qsharp_widgets\n",
      "Successfully installed anywidget-0.9.18 dill-0.4.0 ipywidgets-8.1.6 jupyterlab_widgets-3.0.14 mpmath-1.3.0 pbr-6.1.1 psygnal-0.12.0 qiskit-2.0.0 qsharp-1.15.0 qsharp_widgets-1.15.0 rustworkx-0.16.0 setuptools-79.0.1 stevedore-5.4.1 symengine-0.13.0 sympy-1.13.3 widgetsnbextension-4.0.14\n"
     ]
    }
   ],
   "source": [
    "!pip install --upgrade qsharp qsharp_widgets qiskit"
   ]
  },
  {
   "cell_type": "code",
   "execution_count": null,
   "id": "ffb5efcb",
   "metadata": {},
   "outputs": [],
   "source": [
    "from qiskit.circuit.library import RGQFTMultiplier \n",
    "\n",
    "def create_algorithm(bitwidth):\n",
    "    print(f\"[INFO] Create a QFT-based multiplier with bitwidth {bitwidth}\")\n",
    "\n",
    "    circ = RGQFTMultiplier(num_state_qubits=bitwidth)\n",
    "\n",
    "    return circ"
   ]
  },
  {
   "cell_type": "code",
   "execution_count": null,
   "id": "4b053f89",
   "metadata": {},
   "outputs": [
    {
     "name": "stdout",
     "output_type": "stream",
     "text": [
      "[INFO] Create a QFT-based multiplier with bitwidth 4\n"
     ]
    }
   ],
   "source": [
    "bitwidth = 4\n",
    "\n",
    "circ = create_algorithm(bitwidth)"
   ]
  },
  {
   "cell_type": "code",
   "execution_count": null,
   "id": "fe24667d",
   "metadata": {},
   "outputs": [
    {
     "data": {
      "application/javascript": "// Copyright (c) Microsoft Corporation.\n// Licensed under the MIT License.\n\n// This file provides CodeMirror syntax highlighting for Q# magic cells\n// in classic Jupyter Notebooks. It does nothing in other (Jupyter Notebook 7,\n// VS Code, Azure Notebooks, etc.) environments.\n\n// Detect the prerequisites and do nothing if they don't exist.\nif (window.require && window.CodeMirror && window.Jupyter) {\n  // The simple mode plugin for CodeMirror is not loaded by default, so require it.\n  window.require([\"codemirror/addon/mode/simple\"], function defineMode() {\n    let rules = [\n      {\n        token: \"comment\",\n        regex: /(\\/\\/).*/,\n        beginWord: false,\n      },\n      {\n        token: \"string\",\n        regex: String.raw`^\\\"(?:[^\\\"\\\\]|\\\\[\\s\\S])*(?:\\\"|$)`,\n        beginWord: false,\n      },\n      {\n        token: \"keyword\",\n        regex: String.raw`(namespace|open|as|operation|function|body|adjoint|newtype|controlled|internal)\\b`,\n        beginWord: true,\n      },\n      {\n        token: \"keyword\",\n        regex: String.raw`(if|elif|else|repeat|until|fixup|for|in|return|fail|within|apply)\\b`,\n        beginWord: true,\n      },\n      {\n        token: \"keyword\",\n        regex: String.raw`(Adjoint|Controlled|Adj|Ctl|is|self|auto|distribute|invert|intrinsic)\\b`,\n        beginWord: true,\n      },\n      {\n        token: \"keyword\",\n        regex: String.raw`(let|set|use|borrow|mutable)\\b`,\n        beginWord: true,\n      },\n      {\n        token: \"operatorKeyword\",\n        regex: String.raw`(not|and|or)\\b|(w/)`,\n        beginWord: true,\n      },\n      {\n        token: \"operatorKeyword\",\n        regex: String.raw`(=)|(!)|(<)|(>)|(\\+)|(-)|(\\*)|(/)|(\\^)|(%)|(\\|)|(&&&)|(~~~)|(\\.\\.\\.)|(\\.\\.)|(\\?)`,\n        beginWord: false,\n      },\n      {\n        token: \"meta\",\n        regex: String.raw`(Int|BigInt|Double|Bool|Qubit|Pauli|Result|Range|String|Unit)\\b`,\n        beginWord: true,\n      },\n      {\n        token: \"atom\",\n        regex: String.raw`(true|false|Pauli(I|X|Y|Z)|One|Zero)\\b`,\n        beginWord: true,\n      },\n    ];\n    let simpleRules = [];\n    for (let rule of rules) {\n      simpleRules.push({\n        token: rule.token,\n        regex: new RegExp(rule.regex, \"g\"),\n        sol: rule.beginWord,\n      });\n      if (rule.beginWord) {\n        // Need an additional rule due to the fact that CodeMirror simple mode doesn't work with ^ token\n        simpleRules.push({\n          token: rule.token,\n          regex: new RegExp(String.raw`\\W` + rule.regex, \"g\"),\n          sol: false,\n        });\n      }\n    }\n\n    // Register the mode defined above with CodeMirror\n    window.CodeMirror.defineSimpleMode(\"qsharp\", { start: simpleRules });\n    window.CodeMirror.defineMIME(\"text/x-qsharp\", \"qsharp\");\n\n    // Tell Jupyter to associate %%qsharp magic cells with the qsharp mode\n    window.Jupyter.CodeCell.options_default.highlight_modes[\"qsharp\"] = {\n      reg: [/^%%qsharp/],\n    };\n\n    // Force re-highlighting of all cells the first time this code runs\n    for (const cell of window.Jupyter.notebook.get_cells()) {\n      cell.auto_highlight();\n    }\n  });\n}\n",
      "text/plain": []
     },
     "metadata": {},
     "output_type": "display_data"
    }
   ],
   "source": [
    "from qsharp.estimator import EstimatorParams\n",
    "from qsharp.interop.qiskit import estimate\n",
    "\n",
    "params = EstimatorParams()\n",
    "result = estimate(circ, params)"
   ]
  },
  {
   "cell_type": "code",
   "execution_count": null,
   "id": "ae637015",
   "metadata": {},
   "outputs": [],
   "source": [
    "from qsharp.interop.qiskit import ResourceEstimatorBackend\n",
    "from qsharp.estimator import EstimatorParams\n",
    "\n",
    "params = EstimatorParams()\n",
    "backend = ResourceEstimatorBackend()\n",
    "\n",
    "job = backend.run(circ, params)\n",
    "result = job.result()"
   ]
  },
  {
   "cell_type": "code",
   "execution_count": null,
   "id": "7cdf7406",
   "metadata": {},
   "outputs": [],
   "source": [
    "result.data()[\"jobParams\"]"
   ]
  }
 ],
 "metadata": {
  "kernelspec": {
   "display_name": ".venv",
   "language": "python",
   "name": "python3"
  },
  "language_info": {
   "codemirror_mode": {
    "name": "ipython",
    "version": 3
   },
   "file_extension": ".py",
   "mimetype": "text/x-python",
   "name": "python",
   "nbconvert_exporter": "python",
   "pygments_lexer": "ipython3",
   "version": "3.10.12"
  }
 },
 "nbformat": 4,
 "nbformat_minor": 5
}
