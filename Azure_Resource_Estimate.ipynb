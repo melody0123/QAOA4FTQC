{
 "cells": [
  {
   "cell_type": "code",
   "execution_count": 17,
   "id": "d0db9779",
   "metadata": {},
   "outputs": [
    {
     "name": "stdout",
     "output_type": "stream",
     "text": [
      "Requirement already satisfied: qsharp in /home/hyjing/Code/Quantum_Algorithm/.venv/lib/python3.10/site-packages (1.16.0)\n",
      "Requirement already satisfied: qsharp_widgets in /home/hyjing/Code/Quantum_Algorithm/.venv/lib/python3.10/site-packages (1.16.0)\n",
      "Requirement already satisfied: qiskit in /home/hyjing/Code/Quantum_Algorithm/.venv/lib/python3.10/site-packages (2.0.0)\n",
      "Requirement already satisfied: anywidget in /home/hyjing/Code/Quantum_Algorithm/.venv/lib/python3.10/site-packages (from qsharp_widgets) (0.9.18)\n",
      "Requirement already satisfied: rustworkx>=0.15.0 in /home/hyjing/Code/Quantum_Algorithm/.venv/lib/python3.10/site-packages (from qiskit) (0.16.0)\n",
      "Requirement already satisfied: numpy<3,>=1.17 in /home/hyjing/Code/Quantum_Algorithm/.venv/lib/python3.10/site-packages (from qiskit) (1.26.4)\n",
      "Requirement already satisfied: scipy>=1.5 in /home/hyjing/Code/Quantum_Algorithm/.venv/lib/python3.10/site-packages (from qiskit) (1.15.2)\n",
      "Requirement already satisfied: sympy>=1.3 in /home/hyjing/Code/Quantum_Algorithm/.venv/lib/python3.10/site-packages (from qiskit) (1.13.3)\n",
      "Requirement already satisfied: dill>=0.3 in /home/hyjing/Code/Quantum_Algorithm/.venv/lib/python3.10/site-packages (from qiskit) (0.4.0)\n",
      "Requirement already satisfied: python-dateutil>=2.8.0 in /home/hyjing/Code/Quantum_Algorithm/.venv/lib/python3.10/site-packages (from qiskit) (2.9.0.post0)\n",
      "Requirement already satisfied: stevedore>=3.0.0 in /home/hyjing/Code/Quantum_Algorithm/.venv/lib/python3.10/site-packages (from qiskit) (5.4.1)\n",
      "Requirement already satisfied: typing-extensions in /home/hyjing/Code/Quantum_Algorithm/.venv/lib/python3.10/site-packages (from qiskit) (4.13.2)\n",
      "Requirement already satisfied: symengine<0.14,>=0.11 in /home/hyjing/Code/Quantum_Algorithm/.venv/lib/python3.10/site-packages (from qiskit) (0.13.0)\n",
      "Requirement already satisfied: six>=1.5 in /home/hyjing/Code/Quantum_Algorithm/.venv/lib/python3.10/site-packages (from python-dateutil>=2.8.0->qiskit) (1.17.0)\n",
      "Requirement already satisfied: pbr>=2.0.0 in /home/hyjing/Code/Quantum_Algorithm/.venv/lib/python3.10/site-packages (from stevedore>=3.0.0->qiskit) (6.1.1)\n",
      "Requirement already satisfied: setuptools in /home/hyjing/Code/Quantum_Algorithm/.venv/lib/python3.10/site-packages (from pbr>=2.0.0->stevedore>=3.0.0->qiskit) (79.0.1)\n",
      "Requirement already satisfied: mpmath<1.4,>=1.1.0 in /home/hyjing/Code/Quantum_Algorithm/.venv/lib/python3.10/site-packages (from sympy>=1.3->qiskit) (1.3.0)\n",
      "Requirement already satisfied: ipywidgets>=7.6.0 in /home/hyjing/Code/Quantum_Algorithm/.venv/lib/python3.10/site-packages (from anywidget->qsharp_widgets) (8.1.6)\n",
      "Requirement already satisfied: psygnal>=0.8.1 in /home/hyjing/Code/Quantum_Algorithm/.venv/lib/python3.10/site-packages (from anywidget->qsharp_widgets) (0.12.0)\n",
      "Requirement already satisfied: comm>=0.1.3 in /home/hyjing/Code/Quantum_Algorithm/.venv/lib/python3.10/site-packages (from ipywidgets>=7.6.0->anywidget->qsharp_widgets) (0.2.2)\n",
      "Requirement already satisfied: ipython>=6.1.0 in /home/hyjing/Code/Quantum_Algorithm/.venv/lib/python3.10/site-packages (from ipywidgets>=7.6.0->anywidget->qsharp_widgets) (8.35.0)\n",
      "Requirement already satisfied: traitlets>=4.3.1 in /home/hyjing/Code/Quantum_Algorithm/.venv/lib/python3.10/site-packages (from ipywidgets>=7.6.0->anywidget->qsharp_widgets) (5.14.3)\n",
      "Requirement already satisfied: widgetsnbextension~=4.0.14 in /home/hyjing/Code/Quantum_Algorithm/.venv/lib/python3.10/site-packages (from ipywidgets>=7.6.0->anywidget->qsharp_widgets) (4.0.14)\n",
      "Requirement already satisfied: jupyterlab_widgets~=3.0.14 in /home/hyjing/Code/Quantum_Algorithm/.venv/lib/python3.10/site-packages (from ipywidgets>=7.6.0->anywidget->qsharp_widgets) (3.0.14)\n",
      "Requirement already satisfied: decorator in /home/hyjing/Code/Quantum_Algorithm/.venv/lib/python3.10/site-packages (from ipython>=6.1.0->ipywidgets>=7.6.0->anywidget->qsharp_widgets) (5.2.1)\n",
      "Requirement already satisfied: exceptiongroup in /home/hyjing/Code/Quantum_Algorithm/.venv/lib/python3.10/site-packages (from ipython>=6.1.0->ipywidgets>=7.6.0->anywidget->qsharp_widgets) (1.2.2)\n",
      "Requirement already satisfied: jedi>=0.16 in /home/hyjing/Code/Quantum_Algorithm/.venv/lib/python3.10/site-packages (from ipython>=6.1.0->ipywidgets>=7.6.0->anywidget->qsharp_widgets) (0.19.2)\n",
      "Requirement already satisfied: matplotlib-inline in /home/hyjing/Code/Quantum_Algorithm/.venv/lib/python3.10/site-packages (from ipython>=6.1.0->ipywidgets>=7.6.0->anywidget->qsharp_widgets) (0.1.7)\n",
      "Requirement already satisfied: pexpect>4.3 in /home/hyjing/Code/Quantum_Algorithm/.venv/lib/python3.10/site-packages (from ipython>=6.1.0->ipywidgets>=7.6.0->anywidget->qsharp_widgets) (4.9.0)\n",
      "Requirement already satisfied: prompt_toolkit<3.1.0,>=3.0.41 in /home/hyjing/Code/Quantum_Algorithm/.venv/lib/python3.10/site-packages (from ipython>=6.1.0->ipywidgets>=7.6.0->anywidget->qsharp_widgets) (3.0.51)\n",
      "Requirement already satisfied: pygments>=2.4.0 in /home/hyjing/Code/Quantum_Algorithm/.venv/lib/python3.10/site-packages (from ipython>=6.1.0->ipywidgets>=7.6.0->anywidget->qsharp_widgets) (2.19.1)\n",
      "Requirement already satisfied: stack_data in /home/hyjing/Code/Quantum_Algorithm/.venv/lib/python3.10/site-packages (from ipython>=6.1.0->ipywidgets>=7.6.0->anywidget->qsharp_widgets) (0.6.3)\n",
      "Requirement already satisfied: wcwidth in /home/hyjing/Code/Quantum_Algorithm/.venv/lib/python3.10/site-packages (from prompt_toolkit<3.1.0,>=3.0.41->ipython>=6.1.0->ipywidgets>=7.6.0->anywidget->qsharp_widgets) (0.2.13)\n",
      "Requirement already satisfied: parso<0.9.0,>=0.8.4 in /home/hyjing/Code/Quantum_Algorithm/.venv/lib/python3.10/site-packages (from jedi>=0.16->ipython>=6.1.0->ipywidgets>=7.6.0->anywidget->qsharp_widgets) (0.8.4)\n",
      "Requirement already satisfied: ptyprocess>=0.5 in /home/hyjing/Code/Quantum_Algorithm/.venv/lib/python3.10/site-packages (from pexpect>4.3->ipython>=6.1.0->ipywidgets>=7.6.0->anywidget->qsharp_widgets) (0.7.0)\n",
      "Requirement already satisfied: executing>=1.2.0 in /home/hyjing/Code/Quantum_Algorithm/.venv/lib/python3.10/site-packages (from stack_data->ipython>=6.1.0->ipywidgets>=7.6.0->anywidget->qsharp_widgets) (2.2.0)\n",
      "Requirement already satisfied: asttokens>=2.1.0 in /home/hyjing/Code/Quantum_Algorithm/.venv/lib/python3.10/site-packages (from stack_data->ipython>=6.1.0->ipywidgets>=7.6.0->anywidget->qsharp_widgets) (3.0.0)\n",
      "Requirement already satisfied: pure-eval in /home/hyjing/Code/Quantum_Algorithm/.venv/lib/python3.10/site-packages (from stack_data->ipython>=6.1.0->ipywidgets>=7.6.0->anywidget->qsharp_widgets) (0.2.3)\n"
     ]
    }
   ],
   "source": [
    "!pip install --upgrade qsharp qsharp_widgets qiskit"
   ]
  },
  {
   "cell_type": "code",
   "execution_count": 25,
   "id": "4b053f89",
   "metadata": {},
   "outputs": [
    {
     "name": "stdout",
     "output_type": "stream",
     "text": [
      "OrderedDict([('h', 1654), ('t', 1621), ('y', 309), ('x', 264), ('cx', 90), ('s', 34), ('z', 3)])\n"
     ]
    }
   ],
   "source": [
    "import qiskit\n",
    "from qiskit import qpy\n",
    "global syned_qc\n",
    "with open('syned_qc.qpy', 'rb') as qc_file:\n",
    "    circ = qpy.load(qc_file)[0]\n",
    "print(circ.count_ops())"
   ]
  },
  {
   "cell_type": "code",
   "execution_count": 26,
   "id": "fe24667d",
   "metadata": {},
   "outputs": [],
   "source": [
    "from qsharp.estimator import EstimatorParams\n",
    "from qsharp.interop.qiskit import estimate\n",
    "\n",
    "params = EstimatorParams()\n",
    "result = estimate(circ, params)"
   ]
  },
  {
   "cell_type": "code",
   "execution_count": 20,
   "id": "ae637015",
   "metadata": {},
   "outputs": [],
   "source": [
    "from qsharp.interop.qiskit import ResourceEstimatorBackend\n",
    "from qsharp.estimator import EstimatorParams\n",
    "\n",
    "params = EstimatorParams()\n",
    "backend = ResourceEstimatorBackend()\n",
    "\n",
    "job = backend.run(circ, params)\n",
    "result = job.result()"
   ]
  },
  {
   "cell_type": "code",
   "execution_count": 21,
   "id": "7cdf7406",
   "metadata": {},
   "outputs": [
    {
     "data": {
      "text/plain": [
       "{'qecScheme': {'name': 'surface_code',\n",
       "  'errorCorrectionThreshold': 0.01,\n",
       "  'crossingPrefactor': 0.03,\n",
       "  'distanceCoefficientPower': 0,\n",
       "  'logicalCycleTime': '(4 * twoQubitGateTime + 2 * oneQubitMeasurementTime) * codeDistance',\n",
       "  'physicalQubitsPerLogicalQubit': '2 * codeDistance * codeDistance',\n",
       "  'maxCodeDistance': 50},\n",
       " 'errorBudget': 0.001,\n",
       " 'qubitParams': {'instructionSet': 'GateBased',\n",
       "  'name': 'qubit_gate_ns_e3',\n",
       "  'oneQubitMeasurementTime': '100 ns',\n",
       "  'oneQubitGateTime': '50 ns',\n",
       "  'twoQubitGateTime': '50 ns',\n",
       "  'tGateTime': '50 ns',\n",
       "  'oneQubitMeasurementErrorRate': 0.001,\n",
       "  'oneQubitGateErrorRate': 0.001,\n",
       "  'twoQubitGateErrorRate': 0.001,\n",
       "  'tGateErrorRate': 0.001,\n",
       "  'idleErrorRate': 0.001},\n",
       " 'constraints': {'maxDistillationRounds': 3},\n",
       " 'estimateType': 'singlePoint'}"
      ]
     },
     "execution_count": 21,
     "metadata": {},
     "output_type": "execute_result"
    }
   ],
   "source": [
    "result.data()[\"jobParams\"]"
   ]
  },
  {
   "cell_type": "code",
   "execution_count": 22,
   "id": "78baeae4",
   "metadata": {},
   "outputs": [
    {
     "data": {
      "text/plain": [
       "{'physicalQubits': 964140,\n",
       " 'runtime': 9952800,\n",
       " 'rqops': 5769231,\n",
       " 'breakdown': {'algorithmicLogicalQubits': 30,\n",
       "  'algorithmicLogicalDepth': 1914,\n",
       "  'logicalDepth': 1914,\n",
       "  'numTstates': 6304,\n",
       "  'clockFrequency': 192307.6923076923,\n",
       "  'numTfactories': 53,\n",
       "  'numTfactoryRuns': 119,\n",
       "  'physicalQubitsForTfactories': 954000,\n",
       "  'physicalQubitsForAlgorithm': 10140,\n",
       "  'requiredLogicalQubitErrorRate': 5.805178218971322e-09,\n",
       "  'requiredLogicalTstateErrorRate': 5.287648054145516e-08,\n",
       "  'numTsPerRotation': 16,\n",
       "  'cliffordErrorRate': 0.001}}"
      ]
     },
     "execution_count": 22,
     "metadata": {},
     "output_type": "execute_result"
    }
   ],
   "source": [
    "result.data()[\"physicalCounts\"]"
   ]
  },
  {
   "cell_type": "code",
   "execution_count": 23,
   "id": "05df4c10",
   "metadata": {},
   "outputs": [
    {
     "data": {
      "application/vnd.jupyter.widget-view+json": {
       "model_id": "207b0d6f31374a739bd8a9a0e350d023",
       "version_major": 2,
       "version_minor": 1
      },
      "text/plain": [
       "SpaceChart(estimates={'status': 'success', 'jobParams': {'qecScheme': {'name': 'surface_code', 'errorCorrectio…"
      ]
     },
     "execution_count": 23,
     "metadata": {},
     "output_type": "execute_result"
    }
   ],
   "source": [
    "from qsharp_widgets import SpaceChart\n",
    "\n",
    "SpaceChart(result)"
   ]
  },
  {
   "cell_type": "code",
   "execution_count": 24,
   "id": "f249ea82",
   "metadata": {},
   "outputs": [
    {
     "data": {
      "application/vnd.jupyter.widget-view+json": {
       "model_id": "2fe68f736b67403080c342a2639c5457",
       "version_major": 2,
       "version_minor": 1
      },
      "text/plain": [
       "EstimateDetails(estimates={'status': 'success', 'jobParams': {'qecScheme': {'name': 'surface_code', 'errorCorr…"
      ]
     },
     "execution_count": 24,
     "metadata": {},
     "output_type": "execute_result"
    }
   ],
   "source": [
    "from qsharp_widgets import EstimateDetails\n",
    "EstimateDetails(result)"
   ]
  }
 ],
 "metadata": {
  "kernelspec": {
   "display_name": ".venv",
   "language": "python",
   "name": "python3"
  },
  "language_info": {
   "codemirror_mode": {
    "name": "ipython",
    "version": 3
   },
   "file_extension": ".py",
   "mimetype": "text/x-python",
   "name": "python",
   "nbconvert_exporter": "python",
   "pygments_lexer": "ipython3",
   "version": "3.10.12"
  }
 },
 "nbformat": 4,
 "nbformat_minor": 5
}
