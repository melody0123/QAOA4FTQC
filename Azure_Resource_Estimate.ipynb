{
 "cells": [
  {
   "cell_type": "code",
   "execution_count": 20,
   "id": "d0db9779",
   "metadata": {},
   "outputs": [
    {
     "name": "stdout",
     "output_type": "stream",
     "text": [
      "Requirement already satisfied: qsharp in /home/hyjing/Code/Quantum_Algorithm/.venv/lib/python3.10/site-packages (1.15.0)\n",
      "Requirement already satisfied: qsharp_widgets in /home/hyjing/Code/Quantum_Algorithm/.venv/lib/python3.10/site-packages (1.15.0)\n",
      "Requirement already satisfied: qiskit in /home/hyjing/Code/Quantum_Algorithm/.venv/lib/python3.10/site-packages (2.0.0)\n",
      "Requirement already satisfied: anywidget in /home/hyjing/Code/Quantum_Algorithm/.venv/lib/python3.10/site-packages (from qsharp_widgets) (0.9.18)\n",
      "Requirement already satisfied: rustworkx>=0.15.0 in /home/hyjing/Code/Quantum_Algorithm/.venv/lib/python3.10/site-packages (from qiskit) (0.16.0)\n",
      "Requirement already satisfied: numpy<3,>=1.17 in /home/hyjing/Code/Quantum_Algorithm/.venv/lib/python3.10/site-packages (from qiskit) (1.26.4)\n",
      "Requirement already satisfied: scipy>=1.5 in /home/hyjing/Code/Quantum_Algorithm/.venv/lib/python3.10/site-packages (from qiskit) (1.15.2)\n",
      "Requirement already satisfied: sympy>=1.3 in /home/hyjing/Code/Quantum_Algorithm/.venv/lib/python3.10/site-packages (from qiskit) (1.13.3)\n",
      "Requirement already satisfied: dill>=0.3 in /home/hyjing/Code/Quantum_Algorithm/.venv/lib/python3.10/site-packages (from qiskit) (0.4.0)\n",
      "Requirement already satisfied: python-dateutil>=2.8.0 in /home/hyjing/Code/Quantum_Algorithm/.venv/lib/python3.10/site-packages (from qiskit) (2.9.0.post0)\n",
      "Requirement already satisfied: stevedore>=3.0.0 in /home/hyjing/Code/Quantum_Algorithm/.venv/lib/python3.10/site-packages (from qiskit) (5.4.1)\n",
      "Requirement already satisfied: typing-extensions in /home/hyjing/Code/Quantum_Algorithm/.venv/lib/python3.10/site-packages (from qiskit) (4.13.2)\n",
      "Requirement already satisfied: symengine<0.14,>=0.11 in /home/hyjing/Code/Quantum_Algorithm/.venv/lib/python3.10/site-packages (from qiskit) (0.13.0)\n",
      "Requirement already satisfied: six>=1.5 in /home/hyjing/Code/Quantum_Algorithm/.venv/lib/python3.10/site-packages (from python-dateutil>=2.8.0->qiskit) (1.17.0)\n",
      "Requirement already satisfied: pbr>=2.0.0 in /home/hyjing/Code/Quantum_Algorithm/.venv/lib/python3.10/site-packages (from stevedore>=3.0.0->qiskit) (6.1.1)\n",
      "Requirement already satisfied: setuptools in /home/hyjing/Code/Quantum_Algorithm/.venv/lib/python3.10/site-packages (from pbr>=2.0.0->stevedore>=3.0.0->qiskit) (79.0.1)\n",
      "Requirement already satisfied: mpmath<1.4,>=1.1.0 in /home/hyjing/Code/Quantum_Algorithm/.venv/lib/python3.10/site-packages (from sympy>=1.3->qiskit) (1.3.0)\n",
      "Requirement already satisfied: ipywidgets>=7.6.0 in /home/hyjing/Code/Quantum_Algorithm/.venv/lib/python3.10/site-packages (from anywidget->qsharp_widgets) (8.1.6)\n",
      "Requirement already satisfied: psygnal>=0.8.1 in /home/hyjing/Code/Quantum_Algorithm/.venv/lib/python3.10/site-packages (from anywidget->qsharp_widgets) (0.12.0)\n",
      "Requirement already satisfied: comm>=0.1.3 in /home/hyjing/Code/Quantum_Algorithm/.venv/lib/python3.10/site-packages (from ipywidgets>=7.6.0->anywidget->qsharp_widgets) (0.2.2)\n",
      "Requirement already satisfied: ipython>=6.1.0 in /home/hyjing/Code/Quantum_Algorithm/.venv/lib/python3.10/site-packages (from ipywidgets>=7.6.0->anywidget->qsharp_widgets) (8.35.0)\n",
      "Requirement already satisfied: traitlets>=4.3.1 in /home/hyjing/Code/Quantum_Algorithm/.venv/lib/python3.10/site-packages (from ipywidgets>=7.6.0->anywidget->qsharp_widgets) (5.14.3)\n",
      "Requirement already satisfied: widgetsnbextension~=4.0.14 in /home/hyjing/Code/Quantum_Algorithm/.venv/lib/python3.10/site-packages (from ipywidgets>=7.6.0->anywidget->qsharp_widgets) (4.0.14)\n",
      "Requirement already satisfied: jupyterlab_widgets~=3.0.14 in /home/hyjing/Code/Quantum_Algorithm/.venv/lib/python3.10/site-packages (from ipywidgets>=7.6.0->anywidget->qsharp_widgets) (3.0.14)\n",
      "Requirement already satisfied: decorator in /home/hyjing/Code/Quantum_Algorithm/.venv/lib/python3.10/site-packages (from ipython>=6.1.0->ipywidgets>=7.6.0->anywidget->qsharp_widgets) (5.2.1)\n",
      "Requirement already satisfied: exceptiongroup in /home/hyjing/Code/Quantum_Algorithm/.venv/lib/python3.10/site-packages (from ipython>=6.1.0->ipywidgets>=7.6.0->anywidget->qsharp_widgets) (1.2.2)\n",
      "Requirement already satisfied: jedi>=0.16 in /home/hyjing/Code/Quantum_Algorithm/.venv/lib/python3.10/site-packages (from ipython>=6.1.0->ipywidgets>=7.6.0->anywidget->qsharp_widgets) (0.19.2)\n",
      "Requirement already satisfied: matplotlib-inline in /home/hyjing/Code/Quantum_Algorithm/.venv/lib/python3.10/site-packages (from ipython>=6.1.0->ipywidgets>=7.6.0->anywidget->qsharp_widgets) (0.1.7)\n",
      "Requirement already satisfied: pexpect>4.3 in /home/hyjing/Code/Quantum_Algorithm/.venv/lib/python3.10/site-packages (from ipython>=6.1.0->ipywidgets>=7.6.0->anywidget->qsharp_widgets) (4.9.0)\n",
      "Requirement already satisfied: prompt_toolkit<3.1.0,>=3.0.41 in /home/hyjing/Code/Quantum_Algorithm/.venv/lib/python3.10/site-packages (from ipython>=6.1.0->ipywidgets>=7.6.0->anywidget->qsharp_widgets) (3.0.51)\n",
      "Requirement already satisfied: pygments>=2.4.0 in /home/hyjing/Code/Quantum_Algorithm/.venv/lib/python3.10/site-packages (from ipython>=6.1.0->ipywidgets>=7.6.0->anywidget->qsharp_widgets) (2.19.1)\n",
      "Requirement already satisfied: stack_data in /home/hyjing/Code/Quantum_Algorithm/.venv/lib/python3.10/site-packages (from ipython>=6.1.0->ipywidgets>=7.6.0->anywidget->qsharp_widgets) (0.6.3)\n",
      "Requirement already satisfied: wcwidth in /home/hyjing/Code/Quantum_Algorithm/.venv/lib/python3.10/site-packages (from prompt_toolkit<3.1.0,>=3.0.41->ipython>=6.1.0->ipywidgets>=7.6.0->anywidget->qsharp_widgets) (0.2.13)\n",
      "Requirement already satisfied: parso<0.9.0,>=0.8.4 in /home/hyjing/Code/Quantum_Algorithm/.venv/lib/python3.10/site-packages (from jedi>=0.16->ipython>=6.1.0->ipywidgets>=7.6.0->anywidget->qsharp_widgets) (0.8.4)\n",
      "Requirement already satisfied: ptyprocess>=0.5 in /home/hyjing/Code/Quantum_Algorithm/.venv/lib/python3.10/site-packages (from pexpect>4.3->ipython>=6.1.0->ipywidgets>=7.6.0->anywidget->qsharp_widgets) (0.7.0)\n",
      "Requirement already satisfied: executing>=1.2.0 in /home/hyjing/Code/Quantum_Algorithm/.venv/lib/python3.10/site-packages (from stack_data->ipython>=6.1.0->ipywidgets>=7.6.0->anywidget->qsharp_widgets) (2.2.0)\n",
      "Requirement already satisfied: asttokens>=2.1.0 in /home/hyjing/Code/Quantum_Algorithm/.venv/lib/python3.10/site-packages (from stack_data->ipython>=6.1.0->ipywidgets>=7.6.0->anywidget->qsharp_widgets) (3.0.0)\n",
      "Requirement already satisfied: pure-eval in /home/hyjing/Code/Quantum_Algorithm/.venv/lib/python3.10/site-packages (from stack_data->ipython>=6.1.0->ipywidgets>=7.6.0->anywidget->qsharp_widgets) (0.2.3)\n"
     ]
    }
   ],
   "source": [
    "!pip install --upgrade qsharp qsharp_widgets qiskit"
   ]
  },
  {
   "cell_type": "code",
   "execution_count": 21,
   "id": "ffb5efcb",
   "metadata": {},
   "outputs": [],
   "source": [
    "from qiskit.circuit.library import RGQFTMultiplier \n",
    "\n",
    "def create_algorithm(bitwidth):\n",
    "    print(f\"[INFO] Create a QFT-based multiplier with bitwidth {bitwidth}\")\n",
    "\n",
    "    circ = RGQFTMultiplier(num_state_qubits=bitwidth)\n",
    "\n",
    "    return circ"
   ]
  },
  {
   "cell_type": "code",
   "execution_count": 22,
   "id": "4b053f89",
   "metadata": {},
   "outputs": [],
   "source": [
    "import qiskit\n",
    "bitwidth = 2\n",
    "\n",
    "circ = qiskit.circuit.library.QFT(bitwidth)"
   ]
  },
  {
   "cell_type": "code",
   "execution_count": 23,
   "id": "fe24667d",
   "metadata": {},
   "outputs": [],
   "source": [
    "from qsharp.estimator import EstimatorParams\n",
    "from qsharp.interop.qiskit import estimate\n",
    "\n",
    "params = EstimatorParams()\n",
    "result = estimate(circ, params)"
   ]
  },
  {
   "cell_type": "code",
   "execution_count": 24,
   "id": "ae637015",
   "metadata": {},
   "outputs": [],
   "source": [
    "from qsharp.interop.qiskit import ResourceEstimatorBackend\n",
    "from qsharp.estimator import EstimatorParams\n",
    "\n",
    "params = EstimatorParams()\n",
    "backend = ResourceEstimatorBackend()\n",
    "\n",
    "job = backend.run(circ, params)\n",
    "result = job.result()"
   ]
  },
  {
   "cell_type": "code",
   "execution_count": 25,
   "id": "7cdf7406",
   "metadata": {},
   "outputs": [
    {
     "data": {
      "text/plain": [
       "{'qecScheme': {'name': 'surface_code',\n",
       "  'errorCorrectionThreshold': 0.01,\n",
       "  'crossingPrefactor': 0.03,\n",
       "  'distanceCoefficientPower': 0,\n",
       "  'logicalCycleTime': '(4 * twoQubitGateTime + 2 * oneQubitMeasurementTime) * codeDistance',\n",
       "  'physicalQubitsPerLogicalQubit': '2 * codeDistance * codeDistance',\n",
       "  'maxCodeDistance': 50},\n",
       " 'errorBudget': 0.001,\n",
       " 'qubitParams': {'instructionSet': 'GateBased',\n",
       "  'name': 'qubit_gate_ns_e3',\n",
       "  'oneQubitMeasurementTime': '100 ns',\n",
       "  'oneQubitGateTime': '50 ns',\n",
       "  'twoQubitGateTime': '50 ns',\n",
       "  'tGateTime': '50 ns',\n",
       "  'oneQubitMeasurementErrorRate': 0.001,\n",
       "  'oneQubitGateErrorRate': 0.001,\n",
       "  'twoQubitGateErrorRate': 0.001,\n",
       "  'tGateErrorRate': 0.001,\n",
       "  'idleErrorRate': 0.001},\n",
       " 'constraints': {'maxDistillationRounds': 3},\n",
       " 'estimateType': 'singlePoint'}"
      ]
     },
     "execution_count": 25,
     "metadata": {},
     "output_type": "execute_result"
    }
   ],
   "source": [
    "result.data()[\"jobParams\"]"
   ]
  },
  {
   "cell_type": "code",
   "execution_count": 26,
   "id": "78baeae4",
   "metadata": {},
   "outputs": [
    {
     "data": {
      "text/plain": [
       "{'physicalQubits': 85698,\n",
       " 'runtime': 144000,\n",
       " 'rqops': 2500000,\n",
       " 'breakdown': {'algorithmicLogicalQubits': 9,\n",
       "  'algorithmicLogicalDepth': 40,\n",
       "  'logicalDepth': 40,\n",
       "  'numTstates': 37,\n",
       "  'clockFrequency': 277777.77777777775,\n",
       "  'numTfactories': 13,\n",
       "  'numTfactoryRuns': 3,\n",
       "  'physicalQubitsForTfactories': 84240,\n",
       "  'physicalQubitsForAlgorithm': 1458,\n",
       "  'requiredLogicalQubitErrorRate': 9.259259259259259e-07,\n",
       "  'requiredLogicalTstateErrorRate': 9.00900900900901e-06,\n",
       "  'numTsPerRotation': 12,\n",
       "  'cliffordErrorRate': 0.001}}"
      ]
     },
     "execution_count": 26,
     "metadata": {},
     "output_type": "execute_result"
    }
   ],
   "source": [
    "result.data()[\"physicalCounts\"]"
   ]
  }
 ],
 "metadata": {
  "kernelspec": {
   "display_name": ".venv",
   "language": "python",
   "name": "python3"
  },
  "language_info": {
   "codemirror_mode": {
    "name": "ipython",
    "version": 3
   },
   "file_extension": ".py",
   "mimetype": "text/x-python",
   "name": "python",
   "nbconvert_exporter": "python",
   "pygments_lexer": "ipython3",
   "version": "3.10.12"
  }
 },
 "nbformat": 4,
 "nbformat_minor": 5
}
