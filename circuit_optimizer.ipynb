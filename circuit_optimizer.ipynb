{
 "cells": [
  {
   "cell_type": "code",
   "execution_count": null,
   "id": "8429fe92",
   "metadata": {},
   "outputs": [],
   "source": [
    "!pip install trasyn[cupy-cuda12]\n",
    "!pip install qiskit\n",
    "!pip install pyzx\n",
    "!pip install pytket"
   ]
  }
 ],
 "metadata": {
  "kernelspec": {
   "display_name": ".venv",
   "language": "python",
   "name": "python3"
  },
  "language_info": {
   "name": "python",
   "version": "3.10.16"
  }
 },
 "nbformat": 4,
 "nbformat_minor": 5
}
