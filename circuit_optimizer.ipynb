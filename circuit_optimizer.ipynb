{
 "cells": [
  {
   "cell_type": "code",
   "execution_count": null,
   "id": "ec4fc490",
   "metadata": {},
   "outputs": [],
   "source": [
    "![ -d QAOAKit ] || git clone https://github.com/melody0123/QAOAKit.git\n",
    "\n",
    "import os\n",
    "os.chdir(\"QAOAKit\")\n",
    "print(os.getcwd()) # debugging output\n",
    "\n",
    "!pip install .\n",
    "\n",
    "os.chdir(\"..\")\n",
    "print(os.getcwd()) # debugging output"
   ]
  },
  {
   "cell_type": "code",
   "execution_count": null,
   "id": "d68fae99",
   "metadata": {},
   "outputs": [],
   "source": [
    "!pip install pytket\n",
    "!pip install pyzx\n",
    "!pip install 'trasyn[qiskit,cupy-cuda12]'\n",
    "!pip install matplotlib pylatexenc"
   ]
  },
  {
   "cell_type": "code",
   "execution_count": null,
   "id": "ceb976e5",
   "metadata": {},
   "outputs": [],
   "source": [
    "!python -m QAOAKit.build_tables"
   ]
  },
  {
   "cell_type": "code",
   "execution_count": null,
   "id": "d03166d9",
   "metadata": {},
   "outputs": [],
   "source": [
    "import networkx as nx\n",
    "from qiskit_aer import AerSimulator\n",
    "from QAOAKit import opt_angles_for_graph, angles_to_qaoa_format\n",
    "from QAOAKit.qaoa import get_maxcut_qaoa_circuit\n",
    "\n",
    "# build a random 3-regular graph with 10 nodes\n",
    "graph = nx.random_regular_graph(d=3, n=10, seed=314)\n",
    "\n",
    "# grab optimal angles\n",
    "p = 3\n",
    "angles = angles_to_qaoa_format(opt_angles_for_graph(graph,p))\n",
    "\n",
    "# build circuit\n",
    "qc = get_maxcut_qaoa_circuit(graph, angles['beta'], angles['gamma'])\n",
    "qc.measure_all()\n",
    "\n",
    "# run circuit\n",
    "backend = AerSimulator()\n",
    "print(backend.run(qc).result().get_counts())"
   ]
  },
  {
   "cell_type": "code",
   "execution_count": null,
   "id": "0917c2ac",
   "metadata": {},
   "outputs": [],
   "source": [
    "# remove save_state operation\n",
    "new_qc = qc.copy_empty_like()\n",
    "for inst in qc:\n",
    "    op = inst.operation\n",
    "    if op.name != 'save_state':\n",
    "        new_qc.append(op, inst.qubits, inst.clbits)\n",
    "\n",
    "# new_qc.draw(output='mpl')"
   ]
  },
  {
   "cell_type": "code",
   "execution_count": null,
   "id": "248c6575",
   "metadata": {},
   "outputs": [],
   "source": [
    "import trasyn\n",
    "\n",
    "syned_qc = trasyn.synthesize_qiskit_circuit(circuit=new_qc, u3_transpile=True, nonclifford_budget=50)"
   ]
  }
 ],
 "metadata": {
  "kernelspec": {
   "display_name": ".venv",
   "language": "python",
   "name": "python3"
  },
  "language_info": {
   "codemirror_mode": {
    "name": "ipython",
    "version": 3
   },
   "file_extension": ".py",
   "mimetype": "text/x-python",
   "name": "python",
   "nbconvert_exporter": "python",
   "pygments_lexer": "ipython3",
   "version": "3.10.17"
  }
 },
 "nbformat": 4,
 "nbformat_minor": 5
}
