{
 "cells": [
  {
   "cell_type": "code",
   "execution_count": 1,
   "id": "07905a5c",
   "metadata": {},
   "outputs": [
    {
     "name": "stdout",
     "output_type": "stream",
     "text": [
      "Requirement already satisfied: numpy~=1.0 in /home/hyjing/Code/Quantum_Algorithm/.venv/lib/python3.10/site-packages (1.26.4)\n",
      "Requirement already satisfied: scipy in /home/hyjing/Code/Quantum_Algorithm/.venv/lib/python3.10/site-packages (1.15.2)\n",
      "Requirement already satisfied: numpy<2.5,>=1.23.5 in /home/hyjing/Code/Quantum_Algorithm/.venv/lib/python3.10/site-packages (from scipy) (1.26.4)\n",
      "Requirement already satisfied: stim~=1.14 in /home/hyjing/Code/Quantum_Algorithm/.venv/lib/python3.10/site-packages (1.14.0)\n",
      "Requirement already satisfied: numpy in /home/hyjing/Code/Quantum_Algorithm/.venv/lib/python3.10/site-packages (from stim~=1.14) (1.26.4)\n",
      "Requirement already satisfied: pymatching~=2.0 in /home/hyjing/Code/Quantum_Algorithm/.venv/lib/python3.10/site-packages (2.2.2)\n",
      "Requirement already satisfied: scipy in /home/hyjing/Code/Quantum_Algorithm/.venv/lib/python3.10/site-packages (from pymatching~=2.0) (1.15.2)\n",
      "Requirement already satisfied: numpy in /home/hyjing/Code/Quantum_Algorithm/.venv/lib/python3.10/site-packages (from pymatching~=2.0) (1.26.4)\n",
      "Requirement already satisfied: networkx in /home/hyjing/Code/Quantum_Algorithm/.venv/lib/python3.10/site-packages (from pymatching~=2.0) (3.4.2)\n",
      "Requirement already satisfied: matplotlib in /home/hyjing/Code/Quantum_Algorithm/.venv/lib/python3.10/site-packages (from pymatching~=2.0) (3.10.1)\n",
      "Requirement already satisfied: contourpy>=1.0.1 in /home/hyjing/Code/Quantum_Algorithm/.venv/lib/python3.10/site-packages (from matplotlib->pymatching~=2.0) (1.3.2)\n",
      "Requirement already satisfied: cycler>=0.10 in /home/hyjing/Code/Quantum_Algorithm/.venv/lib/python3.10/site-packages (from matplotlib->pymatching~=2.0) (0.12.1)\n",
      "Requirement already satisfied: fonttools>=4.22.0 in /home/hyjing/Code/Quantum_Algorithm/.venv/lib/python3.10/site-packages (from matplotlib->pymatching~=2.0) (4.57.0)\n",
      "Requirement already satisfied: kiwisolver>=1.3.1 in /home/hyjing/Code/Quantum_Algorithm/.venv/lib/python3.10/site-packages (from matplotlib->pymatching~=2.0) (1.4.8)\n",
      "Requirement already satisfied: packaging>=20.0 in /home/hyjing/Code/Quantum_Algorithm/.venv/lib/python3.10/site-packages (from matplotlib->pymatching~=2.0) (25.0)\n",
      "Requirement already satisfied: pillow>=8 in /home/hyjing/Code/Quantum_Algorithm/.venv/lib/python3.10/site-packages (from matplotlib->pymatching~=2.0) (11.2.1)\n",
      "Requirement already satisfied: pyparsing>=2.3.1 in /home/hyjing/Code/Quantum_Algorithm/.venv/lib/python3.10/site-packages (from matplotlib->pymatching~=2.0) (3.2.3)\n",
      "Requirement already satisfied: python-dateutil>=2.7 in /home/hyjing/Code/Quantum_Algorithm/.venv/lib/python3.10/site-packages (from matplotlib->pymatching~=2.0) (2.9.0.post0)\n",
      "Requirement already satisfied: six>=1.5 in /home/hyjing/Code/Quantum_Algorithm/.venv/lib/python3.10/site-packages (from python-dateutil>=2.7->matplotlib->pymatching~=2.0) (1.17.0)\n"
     ]
    }
   ],
   "source": [
    "!pip install numpy~=1.0  # 1.0 instead of 2.0 for pymatching compatibility later\n",
    "!pip install scipy\n",
    "!pip install stim~=1.14\n",
    "!pip install pymatching~=2.0"
   ]
  },
  {
   "cell_type": "code",
   "execution_count": 2,
   "id": "b4175479",
   "metadata": {},
   "outputs": [
    {
     "name": "stdout",
     "output_type": "stream",
     "text": [
      "1.14.0\n"
     ]
    }
   ],
   "source": [
    "import stim\n",
    "print(stim.__version__)"
   ]
  },
  {
   "cell_type": "code",
   "execution_count": 3,
   "id": "ba434255",
   "metadata": {},
   "outputs": [],
   "source": [
    "import stim\n",
    "import pymatching\n",
    "import numpy as np\n",
    "def count_logical_errors(circuit: stim.Circuit, num_shots: int) -> int:\n",
    "    # Sample the circuit.\n",
    "    sampler = circuit.compile_detector_sampler()\n",
    "    detection_events, observable_flips = sampler.sample(num_shots, separate_observables=True)\n",
    "\n",
    "    # Configure a decoder using the circuit.\n",
    "    detector_error_model = circuit.detector_error_model(decompose_errors=True)\n",
    "    matcher = pymatching.Matching.from_detector_error_model(detector_error_model)\n",
    "\n",
    "    # Run the decoder.\n",
    "    predictions = matcher.decode_batch(detection_events)\n",
    "\n",
    "    # Count the mistakes.\n",
    "    num_errors = 0\n",
    "    for shot in range(num_shots):\n",
    "        actual_for_shot = observable_flips[shot]\n",
    "        predicted_for_shot = predictions[shot]\n",
    "        if not np.array_equal(actual_for_shot, predicted_for_shot):\n",
    "            num_errors += 1\n",
    "    return num_errors"
   ]
  },
  {
   "cell_type": "code",
   "execution_count": 4,
   "id": "2741a9c8",
   "metadata": {},
   "outputs": [],
   "source": [
    "import stim\n",
    "def get_logical_err_rate(distance: int, rounds: int, phy_err_p: int, num_shots: int) -> float:\n",
    "    # Generate Surface Code circuit with the specified parameters.\n",
    "    circuit = stim.Circuit.generated(\n",
    "            \"surface_code:rotated_memory_z\",\n",
    "            rounds=rounds,\n",
    "            distance=distance,\n",
    "            after_clifford_depolarization=phy_err_p,\n",
    "            after_reset_flip_probability=phy_err_p,\n",
    "            before_measure_flip_probability=phy_err_p,\n",
    "            before_round_data_depolarization=phy_err_p,\n",
    "        )\n",
    "    return count_logical_errors(circuit, num_shots) / num_shots"
   ]
  },
  {
   "cell_type": "code",
   "execution_count": 5,
   "id": "6a46efd7",
   "metadata": {},
   "outputs": [
    {
     "name": "stdout",
     "output_type": "stream",
     "text": [
      "8e-05\n"
     ]
    }
   ],
   "source": [
    "print(get_logical_err_rate(distance=7, rounds=21, phy_err_p=0.001, num_shots=100000))"
   ]
  },
  {
   "cell_type": "code",
   "execution_count": 6,
   "id": "eb91a036",
   "metadata": {},
   "outputs": [],
   "source": [
    "def find_distance_for_logical_err_rate(target_logical_err_rate: float, rounds: int, phy_err_p: float, num_shots: int) -> int:\n",
    "    # Binary search for the distance that gives the target logical error rate.\n",
    "    low = 1\n",
    "    high = 50\n",
    "    while low < high:\n",
    "        mid = (low + high) // 2\n",
    "        logical_err_rate = get_logical_err_rate(mid, rounds, phy_err_p, num_shots)\n",
    "        if logical_err_rate < target_logical_err_rate:\n",
    "            high = mid\n",
    "        else:\n",
    "            low = mid + 1\n",
    "    return low"
   ]
  },
  {
   "cell_type": "code",
   "execution_count": 7,
   "id": "ae7f0384",
   "metadata": {},
   "outputs": [
    {
     "name": "stdout",
     "output_type": "stream",
     "text": [
      "6\n"
     ]
    }
   ],
   "source": [
    "print(find_distance_for_logical_err_rate(target_logical_err_rate=0.0001, rounds=21, phy_err_p=0.001, num_shots=10000))"
   ]
  }
 ],
 "metadata": {
  "kernelspec": {
   "display_name": ".venv",
   "language": "python",
   "name": "python3"
  },
  "language_info": {
   "codemirror_mode": {
    "name": "ipython",
    "version": 3
   },
   "file_extension": ".py",
   "mimetype": "text/x-python",
   "name": "python",
   "nbconvert_exporter": "python",
   "pygments_lexer": "ipython3",
   "version": "3.10.12"
  }
 },
 "nbformat": 4,
 "nbformat_minor": 5
}
