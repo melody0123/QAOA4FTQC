{
 "cells": [
  {
   "cell_type": "code",
   "execution_count": 1,
   "id": "07905a5c",
   "metadata": {},
   "outputs": [
    {
     "name": "stdout",
     "output_type": "stream",
     "text": [
      "Requirement already satisfied: numpy~=1.0 in /home/hyjing/Code/Quantum_Algorithm/.venv/lib/python3.10/site-packages (1.26.4)\n",
      "Requirement already satisfied: scipy in /home/hyjing/Code/Quantum_Algorithm/.venv/lib/python3.10/site-packages (1.15.2)\n",
      "Requirement already satisfied: numpy<2.5,>=1.23.5 in /home/hyjing/Code/Quantum_Algorithm/.venv/lib/python3.10/site-packages (from scipy) (1.26.4)\n",
      "Requirement already satisfied: stim~=1.14 in /home/hyjing/Code/Quantum_Algorithm/.venv/lib/python3.10/site-packages (1.14.0)\n",
      "Requirement already satisfied: numpy in /home/hyjing/Code/Quantum_Algorithm/.venv/lib/python3.10/site-packages (from stim~=1.14) (1.26.4)\n"
     ]
    }
   ],
   "source": [
    "!pip install numpy~=1.0  # 1.0 instead of 2.0 for pymatching compatibility later\n",
    "!pip install scipy\n",
    "!pip install stim~=1.14"
   ]
  },
  {
   "cell_type": "code",
   "execution_count": 2,
   "id": "b4175479",
   "metadata": {},
   "outputs": [
    {
     "name": "stdout",
     "output_type": "stream",
     "text": [
      "1.14.0\n"
     ]
    }
   ],
   "source": [
    "import stim\n",
    "print(stim.__version__)"
   ]
  }
 ],
 "metadata": {
  "kernelspec": {
   "display_name": ".venv",
   "language": "python",
   "name": "python3"
  },
  "language_info": {
   "codemirror_mode": {
    "name": "ipython",
    "version": 3
   },
   "file_extension": ".py",
   "mimetype": "text/x-python",
   "name": "python",
   "nbconvert_exporter": "python",
   "pygments_lexer": "ipython3",
   "version": "3.10.12"
  }
 },
 "nbformat": 4,
 "nbformat_minor": 5
}
