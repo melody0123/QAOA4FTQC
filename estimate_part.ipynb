{
 "cells": [
  {
   "cell_type": "code",
   "execution_count": 1,
   "id": "07905a5c",
   "metadata": {},
   "outputs": [
    {
     "name": "stdout",
     "output_type": "stream",
     "text": [
      "Requirement already satisfied: pip in /home/hyjing/Code/Quantum_Algorithm/.venv/lib/python3.10/site-packages (25.1.1)\n",
      "Requirement already satisfied: numpy~=1.0 in /home/hyjing/Code/Quantum_Algorithm/.venv/lib/python3.10/site-packages (1.26.4)\n",
      "Requirement already satisfied: scipy in /home/hyjing/Code/Quantum_Algorithm/.venv/lib/python3.10/site-packages (1.15.2)\n",
      "Requirement already satisfied: numpy<2.5,>=1.23.5 in /home/hyjing/Code/Quantum_Algorithm/.venv/lib/python3.10/site-packages (from scipy) (1.26.4)\n",
      "Requirement already satisfied: stim~=1.14 in /home/hyjing/Code/Quantum_Algorithm/.venv/lib/python3.10/site-packages (1.14.0)\n",
      "Requirement already satisfied: numpy in /home/hyjing/Code/Quantum_Algorithm/.venv/lib/python3.10/site-packages (from stim~=1.14) (1.26.4)\n",
      "Requirement already satisfied: pymatching~=2.0 in /home/hyjing/Code/Quantum_Algorithm/.venv/lib/python3.10/site-packages (2.2.2)\n",
      "Requirement already satisfied: scipy in /home/hyjing/Code/Quantum_Algorithm/.venv/lib/python3.10/site-packages (from pymatching~=2.0) (1.15.2)\n",
      "Requirement already satisfied: numpy in /home/hyjing/Code/Quantum_Algorithm/.venv/lib/python3.10/site-packages (from pymatching~=2.0) (1.26.4)\n",
      "Requirement already satisfied: networkx in /home/hyjing/Code/Quantum_Algorithm/.venv/lib/python3.10/site-packages (from pymatching~=2.0) (3.2.1)\n",
      "Requirement already satisfied: matplotlib in /home/hyjing/Code/Quantum_Algorithm/.venv/lib/python3.10/site-packages (from pymatching~=2.0) (3.8.3)\n",
      "Requirement already satisfied: contourpy>=1.0.1 in /home/hyjing/Code/Quantum_Algorithm/.venv/lib/python3.10/site-packages (from matplotlib->pymatching~=2.0) (1.3.2)\n",
      "Requirement already satisfied: cycler>=0.10 in /home/hyjing/Code/Quantum_Algorithm/.venv/lib/python3.10/site-packages (from matplotlib->pymatching~=2.0) (0.12.1)\n",
      "Requirement already satisfied: fonttools>=4.22.0 in /home/hyjing/Code/Quantum_Algorithm/.venv/lib/python3.10/site-packages (from matplotlib->pymatching~=2.0) (4.57.0)\n",
      "Requirement already satisfied: kiwisolver>=1.3.1 in /home/hyjing/Code/Quantum_Algorithm/.venv/lib/python3.10/site-packages (from matplotlib->pymatching~=2.0) (1.4.8)\n",
      "Requirement already satisfied: packaging>=20.0 in /home/hyjing/Code/Quantum_Algorithm/.venv/lib/python3.10/site-packages (from matplotlib->pymatching~=2.0) (25.0)\n",
      "Requirement already satisfied: pillow>=8 in /home/hyjing/Code/Quantum_Algorithm/.venv/lib/python3.10/site-packages (from matplotlib->pymatching~=2.0) (11.2.1)\n",
      "Requirement already satisfied: pyparsing>=2.3.1 in /home/hyjing/Code/Quantum_Algorithm/.venv/lib/python3.10/site-packages (from matplotlib->pymatching~=2.0) (3.2.3)\n",
      "Requirement already satisfied: python-dateutil>=2.7 in /home/hyjing/Code/Quantum_Algorithm/.venv/lib/python3.10/site-packages (from matplotlib->pymatching~=2.0) (2.9.0.post0)\n",
      "Requirement already satisfied: six>=1.5 in /home/hyjing/Code/Quantum_Algorithm/.venv/lib/python3.10/site-packages (from python-dateutil>=2.7->matplotlib->pymatching~=2.0) (1.17.0)\n",
      "Requirement already satisfied: qiskit in /home/hyjing/Code/Quantum_Algorithm/.venv/lib/python3.10/site-packages (2.0.0)\n",
      "Requirement already satisfied: rustworkx>=0.15.0 in /home/hyjing/Code/Quantum_Algorithm/.venv/lib/python3.10/site-packages (from qiskit) (0.16.0)\n",
      "Requirement already satisfied: numpy<3,>=1.17 in /home/hyjing/Code/Quantum_Algorithm/.venv/lib/python3.10/site-packages (from qiskit) (1.26.4)\n",
      "Requirement already satisfied: scipy>=1.5 in /home/hyjing/Code/Quantum_Algorithm/.venv/lib/python3.10/site-packages (from qiskit) (1.15.2)\n",
      "Requirement already satisfied: sympy>=1.3 in /home/hyjing/Code/Quantum_Algorithm/.venv/lib/python3.10/site-packages (from qiskit) (1.13.3)\n",
      "Requirement already satisfied: dill>=0.3 in /home/hyjing/Code/Quantum_Algorithm/.venv/lib/python3.10/site-packages (from qiskit) (0.4.0)\n",
      "Requirement already satisfied: python-dateutil>=2.8.0 in /home/hyjing/Code/Quantum_Algorithm/.venv/lib/python3.10/site-packages (from qiskit) (2.9.0.post0)\n",
      "Requirement already satisfied: stevedore>=3.0.0 in /home/hyjing/Code/Quantum_Algorithm/.venv/lib/python3.10/site-packages (from qiskit) (5.4.1)\n",
      "Requirement already satisfied: typing-extensions in /home/hyjing/Code/Quantum_Algorithm/.venv/lib/python3.10/site-packages (from qiskit) (4.13.2)\n",
      "Requirement already satisfied: symengine<0.14,>=0.11 in /home/hyjing/Code/Quantum_Algorithm/.venv/lib/python3.10/site-packages (from qiskit) (0.13.0)\n",
      "Requirement already satisfied: six>=1.5 in /home/hyjing/Code/Quantum_Algorithm/.venv/lib/python3.10/site-packages (from python-dateutil>=2.8.0->qiskit) (1.17.0)\n",
      "Requirement already satisfied: pbr>=2.0.0 in /home/hyjing/Code/Quantum_Algorithm/.venv/lib/python3.10/site-packages (from stevedore>=3.0.0->qiskit) (6.1.1)\n",
      "Requirement already satisfied: setuptools in /home/hyjing/Code/Quantum_Algorithm/.venv/lib/python3.10/site-packages (from pbr>=2.0.0->stevedore>=3.0.0->qiskit) (79.0.1)\n",
      "Requirement already satisfied: mpmath<1.4,>=1.1.0 in /home/hyjing/Code/Quantum_Algorithm/.venv/lib/python3.10/site-packages (from sympy>=1.3->qiskit) (1.3.0)\n"
     ]
    }
   ],
   "source": [
    "!pip install --upgrade pip\n",
    "!pip install numpy~=1.0  # 1.0 instead of 2.0 for pymatching compatibility later\n",
    "!pip install scipy\n",
    "!pip install stim~=1.14\n",
    "!pip install pymatching~=2.0\n",
    "!pip install qiskit"
   ]
  },
  {
   "cell_type": "code",
   "execution_count": 2,
   "id": "b4175479",
   "metadata": {},
   "outputs": [
    {
     "name": "stdout",
     "output_type": "stream",
     "text": [
      "1.14.0\n"
     ]
    }
   ],
   "source": [
    "import stim\n",
    "print(stim.__version__)"
   ]
  },
  {
   "cell_type": "code",
   "execution_count": 3,
   "id": "ba434255",
   "metadata": {},
   "outputs": [],
   "source": [
    "import stim\n",
    "import pymatching\n",
    "import numpy as np\n",
    "def count_logical_errors(circuit: stim.Circuit, num_shots: int) -> int:\n",
    "    # Sample the circuit.\n",
    "    sampler = circuit.compile_detector_sampler()\n",
    "    detection_events, observable_flips = sampler.sample(num_shots, separate_observables=True)\n",
    "\n",
    "    # Configure a decoder using the circuit.\n",
    "    detector_error_model = circuit.detector_error_model(decompose_errors=True)\n",
    "    matcher = pymatching.Matching.from_detector_error_model(detector_error_model)\n",
    "\n",
    "    # Run the decoder.\n",
    "    predictions = matcher.decode_batch(detection_events)\n",
    "\n",
    "    # Count the mistakes.\n",
    "    num_errors = 0\n",
    "    for shot in range(num_shots):\n",
    "        actual_for_shot = observable_flips[shot]\n",
    "        predicted_for_shot = predictions[shot]\n",
    "        if not np.array_equal(actual_for_shot, predicted_for_shot):\n",
    "            num_errors += 1\n",
    "    return num_errors"
   ]
  },
  {
   "cell_type": "code",
   "execution_count": 4,
   "id": "2741a9c8",
   "metadata": {},
   "outputs": [],
   "source": [
    "import stim\n",
    "def get_logical_err_rate(distance: int, rounds: int, phy_err_p: int, num_shots: int) -> float:\n",
    "    # Generate Surface Code circuit with the specified parameters.\n",
    "    circuit = stim.Circuit.generated(\n",
    "            \"surface_code:rotated_memory_z\",\n",
    "            rounds=rounds,\n",
    "            distance=distance,\n",
    "            after_clifford_depolarization=phy_err_p,\n",
    "            after_reset_flip_probability=phy_err_p,\n",
    "            before_measure_flip_probability=phy_err_p,\n",
    "            before_round_data_depolarization=phy_err_p,\n",
    "        )\n",
    "    return count_logical_errors(circuit, num_shots) / num_shots"
   ]
  },
  {
   "cell_type": "code",
   "execution_count": 5,
   "id": "6a46efd7",
   "metadata": {},
   "outputs": [
    {
     "name": "stdout",
     "output_type": "stream",
     "text": [
      "8e-05\n"
     ]
    }
   ],
   "source": [
    "print(get_logical_err_rate(distance=7, rounds=21, phy_err_p=0.001, num_shots=100000))"
   ]
  },
  {
   "cell_type": "code",
   "execution_count": 6,
   "id": "ecb4d160",
   "metadata": {},
   "outputs": [],
   "source": [
    "def get_distance_from_logical_err_rate(logical_err_rate: float, phy_err_p: int) -> int:\n",
    "    # Binary search for the distance that gives the desired logical error rate.\n",
    "    num_shots = int(10 / logical_err_rate)\n",
    "    high = 2\n",
    "    while get_logical_err_rate(high, high * 3, phy_err_p, num_shots) > logical_err_rate:\n",
    "        high *= 2\n",
    "    low = max(high // 2, 2)\n",
    "    while low < high:\n",
    "        mid = (low + high) // 2\n",
    "        err_rate = get_logical_err_rate(mid, mid * 3, phy_err_p, num_shots)\n",
    "        if err_rate < logical_err_rate:\n",
    "            high = mid\n",
    "        else:\n",
    "            low = mid + 1\n",
    "    return high"
   ]
  },
  {
   "cell_type": "code",
   "execution_count": 7,
   "id": "f5ebdfdb",
   "metadata": {},
   "outputs": [
    {
     "name": "stdout",
     "output_type": "stream",
     "text": [
      "7\n"
     ]
    }
   ],
   "source": [
    "print(get_distance_from_logical_err_rate(logical_err_rate=0.0001, phy_err_p=0.001))"
   ]
  },
  {
   "cell_type": "code",
   "execution_count": 8,
   "id": "114adbea",
   "metadata": {},
   "outputs": [],
   "source": [
    "class PhysicalQubit:\n",
    "    def __init__(self, gate_error_rate, measurement_error_rate, \n",
    "                 single_qubit_gate_time=50e-9, two_qubit_gate_time=100e-9, measurement_time=2600e-9):\n",
    "        self.single_qubit_gate_time = single_qubit_gate_time\n",
    "        self.two_qubit_gate_time = two_qubit_gate_time      \n",
    "        self.gate_error_rate = gate_error_rate              \n",
    "        self.measurement_time = measurement_time\n",
    "        self.measurement_error_rate = measurement_error_rate"
   ]
  },
  {
   "cell_type": "code",
   "execution_count": 9,
   "id": "4b02e89b",
   "metadata": {},
   "outputs": [],
   "source": [
    "class SurfaceCode:\n",
    "    def __init__(self, code_distance, physical_qubit_params):\n",
    "        self.code_distance = code_distance\n",
    "        self.physical_qubit = physical_qubit_params\n",
    "        self.logical_cycle_time = 3 * self.code_distance * (4 * self.physical_qubit.two_qubit_gate_time + 2 * self.physical_qubit.measurement_time)\n",
    "\n",
    "    def logical_error_rate(self):\n",
    "        p_physical = self.physical_qubit.gate_error_rate\n",
    "        return p_physical ** (self.code_distance / 2)\n",
    "\n",
    "    def physical_qubits_per_logical(self):\n",
    "        return 2 * self.code_distance ** 2 - 1"
   ]
  },
  {
   "cell_type": "code",
   "execution_count": 10,
   "id": "c9704018",
   "metadata": {},
   "outputs": [],
   "source": [
    "class TFactory:\n",
    "    def __init__(self, surface_code, distillation_level=1):\n",
    "        self.surface_code = surface_code\n",
    "        self.distillation_level = distillation_level\n",
    "        self.t_round = 10 * self.surface_code.logical_cycle_time\n",
    "        self.t_distillation = self.distillation_level * self.t_round\n",
    "        self.t_gate_per_second = 1 / self.t_distillation\n",
    "\n",
    "    def required_physical_qubits(self, max_runtime, t_count):\n",
    "        required_t_per_second = t_count / max_runtime\n",
    "        num_t_factories = int(np.ceil(required_t_per_second / self.t_gate_per_second))\n",
    "        num_logical_qubits = num_t_factories * 15\n",
    "        return num_logical_qubits * self.surface_code.physical_qubits_per_logical()\n",
    "\n",
    "    def distillation_time(self):\n",
    "        return self.t_distillation"
   ]
  },
  {
   "cell_type": "code",
   "execution_count": 11,
   "id": "330a6bbc",
   "metadata": {},
   "outputs": [],
   "source": [
    "class Algorithm:\n",
    "    def __init__(self, t_gates, one_q_gates, two_q_gates, qubits, total_cycles):\n",
    "        self.t_gates = t_gates         \n",
    "        self.one_q_gates = one_q_gates\n",
    "        self.two_q_gates = two_q_gates\n",
    "        self.qubits = qubits\n",
    "        self.total_cycles = total_cycles"
   ]
  },
  {
   "cell_type": "code",
   "execution_count": 12,
   "id": "253a7383",
   "metadata": {},
   "outputs": [],
   "source": [
    "class ResourceEstimator:\n",
    "    def __init__(self, algorithm, surface_code, t_factory):\n",
    "        self.algorithm = algorithm\n",
    "        self.surface_code = surface_code\n",
    "        self.t_factory = t_factory\n",
    "\n",
    "    def estimate(self):\n",
    "        logical_qubits = self.algorithm.qubits\n",
    "        total_time = self.algorithm.total_cycles * self.surface_code.logical_cycle_time\n",
    "        total_physical = self.t_factory.required_physical_qubits(total_time, self.algorithm.t_gates) + logical_qubits * self.surface_code.physical_qubits_per_logical()\n",
    "        return {\n",
    "            \"logical_qubits\": logical_qubits,\n",
    "            \"physical_qubits\": total_physical,\n",
    "            \"total_time_seconds\": total_time\n",
    "        }"
   ]
  },
  {
   "cell_type": "code",
   "execution_count": 15,
   "id": "9886fe86",
   "metadata": {},
   "outputs": [],
   "source": [
    "import qiskit\n",
    "from qiskit import QuantumCircuit\n",
    "\n",
    "def estimate_circuit_cost(circ: QuantumCircuit):\n",
    "    num_qubits = circ.num_qubits\n",
    "    num_gates = circ.size()\n",
    "    logical_cycles = circ.depth()\n",
    "    print(f\"num qubits: {num_qubits}, num gates: {num_gates}, logical cycles: {logical_cycles}\")\n",
    "    logical_error_rate = 0.5 / logical_cycles\n",
    "    distance = get_distance_from_logical_err_rate(logical_error_rate, 3.36e-3)\n",
    "    print(f\"code distance: {distance}\")\n",
    "    physical_qubit = PhysicalQubit(gate_error_rate=3.36e-3, measurement_error_rate=7.813e-3)\n",
    "    surface_code = SurfaceCode(code_distance=distance, physical_qubit_params=physical_qubit)\n",
    "    t_factory = TFactory(surface_code=surface_code, distillation_level=1)\n",
    "    t_gates = circ.count_ops().get('t', 0)\n",
    "    one_q_gates = sum([circ.count_ops().get(op, 0) for op in ['x', 'y', 'z', 'h', 's', 't']])\n",
    "    two_q_gates = sum([circ.count_ops().get(op, 0) for op in ['cp', 'cx', 'swap']])\n",
    "    print(f\"t gates: {t_gates}, one q gates: {one_q_gates}, two q gates: {two_q_gates}, qubits: {num_qubits}, logical cycles: {logical_cycles}\")\n",
    "    algorithm = Algorithm(t_gates=t_gates, one_q_gates=one_q_gates, two_q_gates=two_q_gates, total_cycles=circ.depth(), qubits=circ.num_qubits)\n",
    "    estimator = ResourceEstimator(algorithm, surface_code, t_factory)\n",
    "    result = estimator.estimate()    \n",
    "    print(f\"logical qubit num: {result['logical_qubits']}\")\n",
    "    print(f\"physical qubit num: {result['physical_qubits']}\")\n",
    "    print(f\"runtime: {result['total_time_seconds'] * 1e9} nanoseconds\")"
   ]
  },
  {
   "cell_type": "code",
   "execution_count": 16,
   "id": "72df996e",
   "metadata": {},
   "outputs": [
    {
     "name": "stdout",
     "output_type": "stream",
     "text": [
      "num qubits: 10, num gates: 3975, logical cycles: 1385\n",
      "code distance: 16\n",
      "t gates: 1621, one q gates: 3885, two q gates: 90, qubits: 10, logical cycles: 1385\n",
      "logical qubit num: 10\n",
      "physical qubit num: 97090\n",
      "runtime: 372288000.00000006 nanoseconds\n"
     ]
    }
   ],
   "source": [
    "import qiskit\n",
    "from qiskit import QuantumCircuit\n",
    "from qiskit import qpy\n",
    "global syned_qc\n",
    "with open('syned_qc.qpy', 'rb') as qc_file:\n",
    "    syned_qc = qpy.load(qc_file)[0]\n",
    "estimate_circuit_cost(syned_qc)"
   ]
  }
 ],
 "metadata": {
  "kernelspec": {
   "display_name": ".venv",
   "language": "python",
   "name": "python3"
  },
  "language_info": {
   "codemirror_mode": {
    "name": "ipython",
    "version": 3
   },
   "file_extension": ".py",
   "mimetype": "text/x-python",
   "name": "python",
   "nbconvert_exporter": "python",
   "pygments_lexer": "ipython3",
   "version": "3.10.12"
  }
 },
 "nbformat": 4,
 "nbformat_minor": 5
}
