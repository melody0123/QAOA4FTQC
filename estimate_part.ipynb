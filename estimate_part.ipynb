{
 "cells": [
  {
   "cell_type": "code",
   "execution_count": 1,
   "id": "07905a5c",
   "metadata": {},
   "outputs": [
    {
     "name": "stdout",
     "output_type": "stream",
     "text": [
      "Requirement already satisfied: numpy~=1.0 in /home/hyjing/Code/Quantum_Algorithm/.venv/lib/python3.10/site-packages (1.26.4)\n",
      "Requirement already satisfied: scipy in /home/hyjing/Code/Quantum_Algorithm/.venv/lib/python3.10/site-packages (1.15.2)\n",
      "Requirement already satisfied: numpy<2.5,>=1.23.5 in /home/hyjing/Code/Quantum_Algorithm/.venv/lib/python3.10/site-packages (from scipy) (1.26.4)\n",
      "Requirement already satisfied: stim~=1.14 in /home/hyjing/Code/Quantum_Algorithm/.venv/lib/python3.10/site-packages (1.14.0)\n",
      "Requirement already satisfied: numpy in /home/hyjing/Code/Quantum_Algorithm/.venv/lib/python3.10/site-packages (from stim~=1.14) (1.26.4)\n",
      "Requirement already satisfied: pymatching~=2.0 in /home/hyjing/Code/Quantum_Algorithm/.venv/lib/python3.10/site-packages (2.2.2)\n",
      "Requirement already satisfied: scipy in /home/hyjing/Code/Quantum_Algorithm/.venv/lib/python3.10/site-packages (from pymatching~=2.0) (1.15.2)\n",
      "Requirement already satisfied: numpy in /home/hyjing/Code/Quantum_Algorithm/.venv/lib/python3.10/site-packages (from pymatching~=2.0) (1.26.4)\n",
      "Requirement already satisfied: networkx in /home/hyjing/Code/Quantum_Algorithm/.venv/lib/python3.10/site-packages (from pymatching~=2.0) (3.4.2)\n",
      "Requirement already satisfied: matplotlib in /home/hyjing/Code/Quantum_Algorithm/.venv/lib/python3.10/site-packages (from pymatching~=2.0) (3.10.1)\n",
      "Requirement already satisfied: contourpy>=1.0.1 in /home/hyjing/Code/Quantum_Algorithm/.venv/lib/python3.10/site-packages (from matplotlib->pymatching~=2.0) (1.3.2)\n",
      "Requirement already satisfied: cycler>=0.10 in /home/hyjing/Code/Quantum_Algorithm/.venv/lib/python3.10/site-packages (from matplotlib->pymatching~=2.0) (0.12.1)\n",
      "Requirement already satisfied: fonttools>=4.22.0 in /home/hyjing/Code/Quantum_Algorithm/.venv/lib/python3.10/site-packages (from matplotlib->pymatching~=2.0) (4.57.0)\n",
      "Requirement already satisfied: kiwisolver>=1.3.1 in /home/hyjing/Code/Quantum_Algorithm/.venv/lib/python3.10/site-packages (from matplotlib->pymatching~=2.0) (1.4.8)\n",
      "Requirement already satisfied: packaging>=20.0 in /home/hyjing/Code/Quantum_Algorithm/.venv/lib/python3.10/site-packages (from matplotlib->pymatching~=2.0) (25.0)\n",
      "Requirement already satisfied: pillow>=8 in /home/hyjing/Code/Quantum_Algorithm/.venv/lib/python3.10/site-packages (from matplotlib->pymatching~=2.0) (11.2.1)\n",
      "Requirement already satisfied: pyparsing>=2.3.1 in /home/hyjing/Code/Quantum_Algorithm/.venv/lib/python3.10/site-packages (from matplotlib->pymatching~=2.0) (3.2.3)\n",
      "Requirement already satisfied: python-dateutil>=2.7 in /home/hyjing/Code/Quantum_Algorithm/.venv/lib/python3.10/site-packages (from matplotlib->pymatching~=2.0) (2.9.0.post0)\n",
      "Requirement already satisfied: six>=1.5 in /home/hyjing/Code/Quantum_Algorithm/.venv/lib/python3.10/site-packages (from python-dateutil>=2.7->matplotlib->pymatching~=2.0) (1.17.0)\n"
     ]
    }
   ],
   "source": [
    "!pip install numpy~=1.0  # 1.0 instead of 2.0 for pymatching compatibility later\n",
    "!pip install scipy\n",
    "!pip install stim~=1.14\n",
    "!pip install pymatching~=2.0"
   ]
  },
  {
   "cell_type": "code",
   "execution_count": 2,
   "id": "b4175479",
   "metadata": {},
   "outputs": [
    {
     "name": "stdout",
     "output_type": "stream",
     "text": [
      "1.14.0\n"
     ]
    }
   ],
   "source": [
    "import stim\n",
    "print(stim.__version__)"
   ]
  },
  {
   "cell_type": "code",
   "execution_count": 3,
   "id": "ba434255",
   "metadata": {},
   "outputs": [],
   "source": [
    "import stim\n",
    "import pymatching\n",
    "import numpy as np\n",
    "def count_logical_errors(circuit: stim.Circuit, num_shots: int) -> int:\n",
    "    # Sample the circuit.\n",
    "    sampler = circuit.compile_detector_sampler()\n",
    "    detection_events, observable_flips = sampler.sample(num_shots, separate_observables=True)\n",
    "\n",
    "    # Configure a decoder using the circuit.\n",
    "    detector_error_model = circuit.detector_error_model(decompose_errors=True)\n",
    "    matcher = pymatching.Matching.from_detector_error_model(detector_error_model)\n",
    "\n",
    "    # Run the decoder.\n",
    "    predictions = matcher.decode_batch(detection_events)\n",
    "\n",
    "    # Count the mistakes.\n",
    "    num_errors = 0\n",
    "    for shot in range(num_shots):\n",
    "        actual_for_shot = observable_flips[shot]\n",
    "        predicted_for_shot = predictions[shot]\n",
    "        if not np.array_equal(actual_for_shot, predicted_for_shot):\n",
    "            num_errors += 1\n",
    "    return num_errors"
   ]
  },
  {
   "cell_type": "code",
   "execution_count": 4,
   "id": "2741a9c8",
   "metadata": {},
   "outputs": [],
   "source": [
    "import stim\n",
    "def get_logical_err_rate(distance: int, rounds: int, phy_err_p: int, num_shots: int) -> float:\n",
    "    # Generate Surface Code circuit with the specified parameters.\n",
    "    circuit = stim.Circuit.generated(\n",
    "            \"surface_code:rotated_memory_z\",\n",
    "            rounds=rounds,\n",
    "            distance=distance,\n",
    "            after_clifford_depolarization=phy_err_p,\n",
    "            after_reset_flip_probability=phy_err_p,\n",
    "            before_measure_flip_probability=phy_err_p,\n",
    "            before_round_data_depolarization=phy_err_p,\n",
    "        )\n",
    "    return count_logical_errors(circuit, num_shots) / num_shots"
   ]
  },
  {
   "cell_type": "code",
   "execution_count": 5,
   "id": "6a46efd7",
   "metadata": {},
   "outputs": [
    {
     "name": "stdout",
     "output_type": "stream",
     "text": [
      "8e-05\n"
     ]
    }
   ],
   "source": [
    "print(get_logical_err_rate(distance=7, rounds=21, phy_err_p=0.001, num_shots=100000))"
   ]
  },
  {
   "cell_type": "code",
   "execution_count": 6,
   "id": "114adbea",
   "metadata": {},
   "outputs": [],
   "source": [
    "class PhysicalQubit:\n",
    "    def __init__(self, gate_error_rate, measurement_error_rate, \n",
    "                 single_qubit_gate_time=50e-9, two_qubit_gate_time=100e-9):\n",
    "        self.single_qubit_gate_time = single_qubit_gate_time\n",
    "        self.two_qubit_gate_time = two_qubit_gate_time      \n",
    "        self.gate_error_rate = gate_error_rate              \n",
    "        self.measurement_error_rate = measurement_error_rate"
   ]
  },
  {
   "cell_type": "code",
   "execution_count": 7,
   "id": "4b02e89b",
   "metadata": {},
   "outputs": [],
   "source": [
    "class SurfaceCode:\n",
    "    def __init__(self, code_distance, physical_qubit_params):\n",
    "        self.code_distance = code_distance\n",
    "        self.physical_qubit = physical_qubit_params\n",
    "\n",
    "    def logical_error_rate(self):\n",
    "        p_physical = self.physical_qubit.gate_error_rate\n",
    "        return p_physical ** (self.code_distance / 2)\n",
    "\n",
    "    def physical_qubits_per_logical(self):\n",
    "        return 2 * self.code_distance ** 2"
   ]
  },
  {
   "cell_type": "code",
   "execution_count": 8,
   "id": "c9704018",
   "metadata": {},
   "outputs": [],
   "source": [
    "class TFactory:\n",
    "    def __init__(self, surface_code, distillation_level=1):\n",
    "        self.surface_code = surface_code\n",
    "        self.distillation_level = distillation_level\n",
    "\n",
    "    def required_physical_qubits(self):\n",
    "        return 15 * self.surface_code.physical_qubits_per_logical() \n",
    "\n",
    "    def distillation_time(self):\n",
    "        return 10 * self.surface_code.code_distance * self.physical_qubit.two_qubit_gate_time"
   ]
  },
  {
   "cell_type": "code",
   "execution_count": 9,
   "id": "330a6bbc",
   "metadata": {},
   "outputs": [],
   "source": [
    "class Algorithm:\n",
    "    def __init__(self, t_gates, cnot_gates, total_cycles):\n",
    "        self.t_gates = t_gates         \n",
    "        self.cnot_gates = cnot_gates    \n",
    "        self.total_cycles = total_cycles  "
   ]
  },
  {
   "cell_type": "code",
   "execution_count": 10,
   "id": "253a7383",
   "metadata": {},
   "outputs": [],
   "source": [
    "class ResourceEstimator:\n",
    "    def __init__(self, algorithm, surface_code, t_factory):\n",
    "        self.algorithm = algorithm\n",
    "        self.surface_code = surface_code\n",
    "        self.t_factory = t_factory\n",
    "\n",
    "    def estimate(self):\n",
    "        logical_qubits = self.algorithm.cnot_gates * 2\n",
    "\n",
    "        physical_per_logical = self.surface_code.physical_qubits_per_logical()\n",
    "        t_factory_qubits = self.t_factory.required_physical_qubits()\n",
    "\n",
    "        total_physical = (logical_qubits * physical_per_logical) + t_factory_qubits\n",
    "\n",
    "        logical_cycle_time = self.surface_code.code_distance * self.surface_code.physical_qubit.two_qubit_gate_time\n",
    "        total_time = self.algorithm.total_cycles * logical_cycle_time\n",
    "\n",
    "        return {\n",
    "            \"logical_qubits\": logical_qubits,\n",
    "            \"physical_qubits\": total_physical,\n",
    "            \"total_time_seconds\": total_time\n",
    "        }"
   ]
  },
  {
   "cell_type": "code",
   "execution_count": 14,
   "id": "ee242abc",
   "metadata": {},
   "outputs": [
    {
     "name": "stdout",
     "output_type": "stream",
     "text": [
      "logical qubit num: 1000000.0\n",
      "physical qubit num: 50000750.0\n",
      "runtime: 1.39 hour\n"
     ]
    }
   ],
   "source": [
    "physical_qubit = PhysicalQubit(gate_error_rate=1e-3, measurement_error_rate=1e-2)\n",
    "\n",
    "surface_code = SurfaceCode(code_distance=5, physical_qubit_params=physical_qubit)\n",
    "\n",
    "t_factory = TFactory(surface_code=surface_code, distillation_level=1)\n",
    "\n",
    "algorithm = Algorithm(t_gates=1e6, cnot_gates=5e5, total_cycles=1e10)\n",
    "\n",
    "estimator = ResourceEstimator(algorithm, surface_code, t_factory)\n",
    "result = estimator.estimate()\n",
    "\n",
    "print(f\"logical qubit num: {result['logical_qubits']}\")\n",
    "print(f\"physical qubit num: {result['physical_qubits']}\")\n",
    "print(f\"runtime: {result['total_time_seconds']/3600:.2f} hour\")"
   ]
  }
 ],
 "metadata": {
  "kernelspec": {
   "display_name": ".venv",
   "language": "python",
   "name": "python3"
  },
  "language_info": {
   "codemirror_mode": {
    "name": "ipython",
    "version": 3
   },
   "file_extension": ".py",
   "mimetype": "text/x-python",
   "name": "python",
   "nbconvert_exporter": "python",
   "pygments_lexer": "ipython3",
   "version": "3.10.12"
  }
 },
 "nbformat": 4,
 "nbformat_minor": 5
}
